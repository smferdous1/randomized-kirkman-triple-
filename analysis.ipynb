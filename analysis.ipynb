{
 "cells": [
  {
   "cell_type": "code",
   "execution_count": 90,
   "metadata": {
    "collapsed": true
   },
   "outputs": [],
   "source": [
    "import numpy as np\n",
    "import matplotlib.pyplot as plt"
   ]
  },
  {
   "cell_type": "code",
   "execution_count": 105,
   "metadata": {},
   "outputs": [],
   "source": [
    "filename = \"result_3.csv\"\n",
    "filename1 = \"result_4\"\n",
    "content  = np.genfromtxt(filename,delimiter=',')\n",
    "content = content[0:79,[1,2]]\n",
    "content1  = np.genfromtxt(filename1,delimiter=',')\n",
    "content1 = content1[0:58,[1,2]]"
   ]
  },
  {
   "cell_type": "code",
   "execution_count": 116,
   "metadata": {},
   "outputs": [],
   "source": [
    "plt.plot(content[:,0],content[:,1],'ro--',content1[:,0],content1[:,1],'g^')\n",
    "plt.ylabel(\"# of parallel classes\")\n",
    "plt.xlabel(\"n\")\n",
    "plt.legend([\"group size = 3\",\"group size = 4\"])\n",
    "plt.savefig('perfrand.pdf')\n"
   ]
  }
 ],
 "metadata": {
  "kernelspec": {
   "display_name": "Python [default]",
   "language": "python",
   "name": "python3"
  },
  "language_info": {
   "codemirror_mode": {
    "name": "ipython",
    "version": 3
   },
   "file_extension": ".py",
   "mimetype": "text/x-python",
   "name": "python",
   "nbconvert_exporter": "python",
   "pygments_lexer": "ipython3",
   "version": "3.6.4"
  }
 },
 "nbformat": 4,
 "nbformat_minor": 2
}
